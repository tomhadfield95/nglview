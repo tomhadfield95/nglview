{
 "cells": [
  {
   "cell_type": "markdown",
   "metadata": {},
   "source": [
    "## 3D visualisations with nglview\n",
    "\n",
    "We're probably all familiar with molecular visualisations in PyMol (or a similar molecule viewer). When we've generated a set of molecules using our favourite generative model, often we want to inspect what they might look like in the binding site, to get a sense of whether they're sensible molecules or not. While PyMol is a great tool to have at our disposal, it's generally easier to manipulate objects in the same jupyter notebook we were using to generate the molecules; we're more familiar with python expressions than the PyMol command line, and it's just neater to have everything in one place so we're not constantly writing and reading molecules to and from storage.\n",
    "\n",
    "nglview is a great tool for this. We can install it by running `conda install -c conda-forge nglview` in the command line. Just like that, we have a 3D molecule viewer that can be run inside a jupyter notebook!\n",
    "\n",
    "Below, we'll show a couple of use-cases for nglview. More information can be found [here](https://github.com/nglviewer/nglview).\n",
    "\n"
   ]
  },
  {
   "cell_type": "code",
   "execution_count": 1,
   "metadata": {},
   "outputs": [
    {
     "data": {
      "application/vnd.jupyter.widget-view+json": {
       "model_id": "0007af70ea164a56a2725554a361ef40",
       "version_major": 2,
       "version_minor": 0
      },
      "text/plain": []
     },
     "metadata": {},
     "output_type": "display_data"
    }
   ],
   "source": [
    "%config Completer.use_jedi = False\n",
    "\n",
    "import nglview\n",
    "from ipywidgets import interactive, VBox\n",
    "import time\n",
    "\n",
    "#RDKit stuff\n",
    "import rdkit\n",
    "from rdkit import Chem\n",
    "from rdkit.Chem.Draw import IPythonConsole\n",
    "from rdkit.Chem.Crippen import MolLogP\n",
    "from rdkit.Chem.QED import qed\n",
    "\n",
    "import pandas as pd"
   ]
  },
  {
   "cell_type": "markdown",
   "metadata": {},
   "source": [
    "### Viewing a file from the PDB\n",
    "\n",
    "This one is very simple"
   ]
  },
  {
   "cell_type": "code",
   "execution_count": 2,
   "metadata": {},
   "outputs": [
    {
     "data": {
      "application/vnd.jupyter.widget-view+json": {
       "model_id": "76f658c56d1e4f0981ab69cb00c1f587",
       "version_major": 2,
       "version_minor": 0
      },
      "text/plain": [
       "NGLWidget()"
      ]
     },
     "metadata": {},
     "output_type": "display_data"
    }
   ],
   "source": [
    "pdb_id = \"6ooy\" #The PDB id we want to look at\n",
    "view = nglview.show_pdbid(pdb_id)  \n",
    "view #Use the mouse to manipulate the image"
   ]
  },
  {
   "cell_type": "markdown",
   "metadata": {},
   "source": [
    "### View the protein as a surface\n"
   ]
  },
  {
   "cell_type": "code",
   "execution_count": 3,
   "metadata": {},
   "outputs": [
    {
     "data": {
      "application/vnd.jupyter.widget-view+json": {
       "model_id": "9162a29f0f1f422883bf80cc105c3605",
       "version_major": 2,
       "version_minor": 0
      },
      "text/plain": [
       "NGLWidget()"
      ]
     },
     "metadata": {},
     "output_type": "display_data"
    }
   ],
   "source": [
    "view_surface = nglview.show_pdbid(pdb_id)\n",
    "view_surface.remove_cartoon()\n",
    "view_surface.add_surface(opacity = 0.5)\n",
    "view_surface"
   ]
  },
  {
   "cell_type": "markdown",
   "metadata": {},
   "source": [
    "### Viewing a pdb file we have saved\n",
    "\n",
    "This one is equally simple"
   ]
  },
  {
   "cell_type": "code",
   "execution_count": 2,
   "metadata": {},
   "outputs": [
    {
     "data": {
      "application/vnd.jupyter.widget-view+json": {
       "model_id": "687d3e02368f4a57a4994607efdaec07",
       "version_major": 2,
       "version_minor": 0
      },
      "text/plain": [
       "NGLWidget()"
      ]
     },
     "metadata": {},
     "output_type": "display_data"
    }
   ],
   "source": [
    "pdb_file = \"3acw_protein.pdb\" #The PDB file we want to look at\n",
    "view = nglview.show_file(pdb_file)  \n",
    "view #Use the mouse to manipulate the image"
   ]
  },
  {
   "cell_type": "markdown",
   "metadata": {},
   "source": [
    "We can use the `show_file` function to show a variety of different file formats"
   ]
  },
  {
   "cell_type": "code",
   "execution_count": 3,
   "metadata": {},
   "outputs": [
    {
     "data": {
      "application/vnd.jupyter.widget-view+json": {
       "model_id": "82b9b35032194725b579604d79460ef0",
       "version_major": 2,
       "version_minor": 0
      },
      "text/plain": [
       "NGLWidget()"
      ]
     },
     "metadata": {},
     "output_type": "display_data"
    }
   ],
   "source": [
    "sdf_file = \"3acw_ligand.sdf\"\n",
    "view = nglview.show_file(sdf_file)  \n",
    "view #Use the mouse to manipulate the image"
   ]
  },
  {
   "cell_type": "markdown",
   "metadata": {},
   "source": [
    "### Viewing the Top N molecules generated by a generative model\n",
    "\n",
    "Now let's imagine that we'd generated and docked a set of molecules using a generative model and we wanted to inspect the best ones in the binding site"
   ]
  },
  {
   "cell_type": "code",
   "execution_count": 6,
   "metadata": {},
   "outputs": [],
   "source": [
    "n = 15\n",
    "\n",
    "mols = Chem.SDMolSupplier('elabs.sdf')\n",
    "mols = [x for x in mols]\n",
    "\n",
    "score = [qed(x) for x in mols] #Pretend this is some sort of meaningful score for each molecule.\n",
    "\n",
    "mol_df = pd.DataFrame({'mol':mols, 'score':score}).sort_values('score', ascending = False)\n",
    "mols_to_visualise = list(mol_df['mol'].head(n))\n"
   ]
  },
  {
   "cell_type": "code",
   "execution_count": 7,
   "metadata": {},
   "outputs": [
    {
     "data": {
      "image/png": "[encoded data removed]",
      "text/plain": [
       "<rdkit.Chem.rdchem.Mol at 0x7f0440455260>"
      ]
     },
     "execution_count": 7,
     "metadata": {},
     "output_type": "execute_result"
    }
   ],
   "source": [
    "mols_to_visualise[0]"
   ]
  },
  {
   "cell_type": "markdown",
   "metadata": {},
   "source": [
    "Normally if we try to visualise the 3D molecule using RDKit, we would only get a horrible projection of the molecule (like the one above). We could visualise it in 2D if we used the `RemoveAllConformers()` method, but we'd also like to view it in the context of the binding site."
   ]
  },
  {
   "cell_type": "code",
   "execution_count": 8,
   "metadata": {},
   "outputs": [],
   "source": [
    "def show_ligand_in_protein(lig, prot):\n",
    "    #A function for viewing a 3D RDKit molecule and a pdb file.\n",
    "    view = nglview.NGLWidget()\n",
    "\n",
    "    prot_component = view.add_component(prot)\n",
    "    prot_component.clear()\n",
    "    prot_component.add_cartoon()\n",
    "    \n",
    "    lig_component = view.add_component(lig)\n",
    "    lig_component.clear()\n",
    "    lig_component.add_ball_and_stick(multipleBond=True)\n",
    "    return view"
   ]
  },
  {
   "cell_type": "code",
   "execution_count": 9,
   "metadata": {},
   "outputs": [],
   "source": [
    "views = [show_ligand_in_protein(x, '1q8t_protein.pdb') for x in mols_to_visualise]"
   ]
  },
  {
   "cell_type": "code",
   "execution_count": 10,
   "metadata": {},
   "outputs": [
    {
     "data": {
      "application/vnd.jupyter.widget-view+json": {
       "model_id": "48a340391ce64e57810bff831eb85807",
       "version_major": 2,
       "version_minor": 0
      },
      "text/plain": [
       "NGLWidget()"
      ]
     },
     "metadata": {},
     "output_type": "display_data"
    }
   ],
   "source": [
    "#Now, to visualise each molecule, we simply look at each element of the views, list. e.g.:\n",
    "views[5]"
   ]
  },
  {
   "cell_type": "markdown",
   "metadata": {},
   "source": [
    "### A better solution\n",
    "\n",
    "Instead of making lots of different plot objects and storing them in a list, we can also store them all in the same viewer"
   ]
  },
  {
   "cell_type": "code",
   "execution_count": 12,
   "metadata": {},
   "outputs": [],
   "source": [
    "def load_multiple_ligands(prot_path, mols):\n",
    "    \n",
    "    #Add protein\n",
    "    view = nglview.NGLWidget()\n",
    "    view.add_component(prot_path)\n",
    "    \n",
    "    #Add ligands \n",
    "    for idx, m in enumerate(mols):\n",
    "        view.add_component(m)\n",
    "        view._ngl_component_names[idx + 1] = f'lig_{idx}'\n",
    "        \n",
    "    return view\n",
    "\n",
    "def load_single_ligand(prot_path, mols, idx):\n",
    "    \n",
    "    #Add protein\n",
    "    view = nglview.NGLWidget()\n",
    "    view.add_component(prot_path)\n",
    "    \n",
    "    #Add ligand \n",
    "    \n",
    "    view.add_component(mols[idx])\n",
    "    #view._ngl_component_names[idx + 1] = f'lig_{idx}'\n",
    "        \n",
    "    return view\n",
    "\n",
    "class InteractiveViewer():\n",
    "    \n",
    "    def __init__(self, prot_path, mols):\n",
    "        self.view = load_multiple_ligands(prot_path, mols)\n",
    "        self.prot_path = prot_path\n",
    "        self.mols = mols\n",
    "        \n",
    "        \n",
    "    def get_component_index(self, component_name):\n",
    "        \"\"\"\n",
    "        Given the name of the loaded file (or a partial string),\n",
    "        returns the component index if loaded\n",
    "        \"\"\"\n",
    "        all_components = view_test._ngl_component_names\n",
    "        component_idx = all_components.index([i for i in all_components if component_name in i][0])\n",
    "        \n",
    "    def view_specific_ligand(self, lig_identifier):\n",
    "        \n",
    "        if lig_identifier == 'All':\n",
    "            self.view = load_multiple_ligands(self.prot_path, self.mols)\n",
    "        else:\n",
    "            self.view = load_single_ligand(self.prot_path, self.mols, lig_identifier)\n",
    "        \n",
    "    "
   ]
  },
  {
   "cell_type": "code",
   "execution_count": 4,
   "metadata": {},
   "outputs": [
    {
     "ename": "NameError",
     "evalue": "name 'InteractiveViewer' is not defined",
     "output_type": "error",
     "traceback": [
      "\u001b[0;31m---------------------------------------------------------------------------\u001b[0m",
      "\u001b[0;31mNameError\u001b[0m                                 Traceback (most recent call last)",
      "\u001b[0;32m<ipython-input-4-736c81ba679e>\u001b[0m in \u001b[0;36m<module>\u001b[0;34m\u001b[0m\n\u001b[0;32m----> 1\u001b[0;31m \u001b[0mint_viewer\u001b[0m \u001b[0;34m=\u001b[0m \u001b[0mInteractiveViewer\u001b[0m\u001b[0;34m(\u001b[0m\u001b[0;34m'1q8t_protein.pdb'\u001b[0m\u001b[0;34m,\u001b[0m \u001b[0mmols_to_visualise\u001b[0m\u001b[0;34m)\u001b[0m\u001b[0;34m\u001b[0m\u001b[0;34m\u001b[0m\u001b[0m\n\u001b[0m",
      "\u001b[0;31mNameError\u001b[0m: name 'InteractiveViewer' is not defined"
     ]
    }
   ],
   "source": [
    "int_viewer = InteractiveViewer('1q8t_protein.pdb', mols_to_visualise)"
   ]
  },
  {
   "cell_type": "markdown",
   "metadata": {},
   "source": [
    "### How to use the box below:\n",
    "\n",
    "* Run the cell below\n",
    "* Click on the drop-down list and select the molecule index you want to view\n",
    "* Rerun the cell and that molecule will be the one showing (even though the displayed value will have gone back to 'All')\n",
    "\n",
    "There's probably a way to get it to update without rerunning the cell but I haven't figured it out yet."
   ]
  },
  {
   "cell_type": "code",
   "execution_count": 26,
   "metadata": {},
   "outputs": [
    {
     "data": {
      "application/vnd.jupyter.widget-view+json": {
       "model_id": "0bf431390bcd44738dd0f425dfbc5e86",
       "version_major": 2,
       "version_minor": 0
      },
      "text/plain": [
       "VBox(children=(NGLWidget(), interactive(children=(Dropdown(description='lig_identifier', options=('All', 0, 1,…"
      ]
     },
     "metadata": {},
     "output_type": "display_data"
    }
   ],
   "source": [
    "id_list = ['All'] + list(range(len(int_viewer.mols)))\n",
    "\n",
    "controls = interactive(int_viewer.view_specific_ligand, \n",
    "                       lig_identifier = id_list, \n",
    "                       )\n",
    "VBox([int_viewer.view, controls])"
   ]
  },
  {
   "cell_type": "code",
   "execution_count": null,
   "metadata": {},
   "outputs": [],
   "source": []
  }
 ],
 "metadata": {
  "kernelspec": {
   "display_name": "nglview",
   "language": "python",
   "name": "nglview"
  },
  "language_info": {
   "codemirror_mode": {
    "name": "ipython",
    "version": 3
   },
   "file_extension": ".py",
   "mimetype": "text/x-python",
   "name": "python",
   "nbconvert_exporter": "python",
   "pygments_lexer": "ipython3",
   "version": "3.7.13"
  }
 },
 "nbformat": 4,
 "nbformat_minor": 4
}
